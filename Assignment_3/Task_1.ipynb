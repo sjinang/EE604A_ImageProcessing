{
  "nbformat": 4,
  "nbformat_minor": 0,
  "metadata": {
    "kernelspec": {
      "display_name": "Python 3",
      "language": "python",
      "name": "python3"
    },
    "language_info": {
      "codemirror_mode": {
        "name": "ipython",
        "version": 3
      },
      "file_extension": ".py",
      "mimetype": "text/x-python",
      "name": "python",
      "nbconvert_exporter": "python",
      "pygments_lexer": "ipython3",
      "version": "3.7.6"
    },
    "colab": {
      "name": "Task_1.ipynb",
      "provenance": [],
      "collapsed_sections": []
    }
  },
  "cells": [
    {
      "cell_type": "code",
      "metadata": {
        "id": "B81kdGL_sUh0"
      },
      "source": [
        "# Copyright 2020 IITK EE604A Image Processing. All Rights Reserved.\n",
        "# \n",
        "# Licensed under the MIT License. Use and/or modification of this code outside of EE604 must reference:\n",
        "#\n",
        "# © IITK EE604A Image Processing \n",
        "# https://github.com/ee604/ee604_assignments\n",
        "#\n",
        "# Author: Shashi Kant Gupta, Chiranjeev Prachand and Prof K. S. Venkatesh, Department of Electrical Engineering, IIT Kanpur"
      ],
      "execution_count": 1,
      "outputs": []
    },
    {
      "cell_type": "markdown",
      "metadata": {
        "id": "gSYlsAnOsUiD"
      },
      "source": [
        "# Task 1: Frequency Domain Analysis - Resizing\n",
        "\n",
        "Remember, we already did this using operation in the spatial domain (interpolation methods)? Now let's do the same thing using frequency domain analysis."
      ]
    },
    {
      "cell_type": "code",
      "metadata": {
        "id": "m49i-diWsUiE",
        "colab": {
          "base_uri": "https://localhost:8080/"
        },
        "outputId": "8bd43726-8b57-401e-d225-a3dc53105132"
      },
      "source": [
        "%%bash\n",
        "pip install git+https://github.com/ee604/ee604_plugins"
      ],
      "execution_count": 2,
      "outputs": [
        {
          "output_type": "stream",
          "text": [
            "Collecting git+https://github.com/ee604/ee604_plugins\n",
            "  Cloning https://github.com/ee604/ee604_plugins to /tmp/pip-req-build-doegmqt4\n",
            "Building wheels for collected packages: ee604-plugins\n",
            "  Building wheel for ee604-plugins (setup.py): started\n",
            "  Building wheel for ee604-plugins (setup.py): finished with status 'done'\n",
            "  Created wheel for ee604-plugins: filename=ee604_plugins-0.3.2-cp36-none-any.whl size=2311 sha256=bcba0e7eb3f2f6296c3a506ae3161dae5d308bb56562093a17a876ea76db9773\n",
            "  Stored in directory: /tmp/pip-ephem-wheel-cache-1mdivn05/wheels/34/a8/1d/ae3b7d209ecde89b4800a47ec55a61e7503bb9548bbb975806\n",
            "Successfully built ee604-plugins\n",
            "Installing collected packages: ee604-plugins\n",
            "Successfully installed ee604-plugins-0.3.2\n"
          ],
          "name": "stdout"
        },
        {
          "output_type": "stream",
          "text": [
            "  Running command git clone -q https://github.com/ee604/ee604_plugins /tmp/pip-req-build-doegmqt4\n"
          ],
          "name": "stderr"
        }
      ]
    },
    {
      "cell_type": "code",
      "metadata": {
        "id": "N66ljHaksUiK",
        "colab": {
          "base_uri": "https://localhost:8080/"
        },
        "outputId": "054a919d-2b92-4015-dbb4-c7cde476c341"
      },
      "source": [
        "# Importing required libraries\n",
        "\n",
        "import cv2\n",
        "import numpy as np\n",
        "import matplotlib.pyplot as plt\n",
        "\n",
        "from ee604_plugins import download_dataset, cv2_imshow\n",
        "\n",
        "download_dataset(assignment_no=3, task_no=1) # download data for this assignment"
      ],
      "execution_count": 3,
      "outputs": [
        {
          "output_type": "stream",
          "text": [
            "Download Complete!\n"
          ],
          "name": "stdout"
        }
      ]
    },
    {
      "cell_type": "code",
      "metadata": {
        "id": "wR5nFcJ9sUiO"
      },
      "source": [
        "def resize_ft(img, k=1):\n",
        "    '''\n",
        "    Write a program to resize the given image by a factor 'k' using frequency domain analysis.\n",
        "    \n",
        "    Inputs:\n",
        "    + img - Original image\n",
        "    + k - resampling factor, therefore if input image size is 300x300 \n",
        "        - and k=0.5 ==> output image size = 150x150\n",
        "        - use int(k*input_image_size) to find the nearest integer\n",
        "    \n",
        "    Ouputs:\n",
        "    + out_img - numpy array (of dtype np.uint8) containing the output image.\n",
        "              - range should be between (0, 255) which may not be the case when u run the inverse DFT. \n",
        "              - Therefore, normalise the image by img = (img - min(img))/max(img) to rescale the values to (0, 255)\n",
        "    \n",
        "    Allowed external package:\n",
        "    + You are allowed to use any cv2.dft or cv2.idft module or any other suitable module in numpy and cv2 \n",
        "    + Just make sure you do not use any direct implementation.\n",
        "    \n",
        "    Hints:\n",
        "    + For upscaling - pad the frquency domain signal with zeros around the center of the image. \n",
        "    + For downscaling - crop the frequency domain signal at the centre of required size.\n",
        "    + PS - Make sure to use proper shift operation on output of cv2.dft so that your frequency domain signal \n",
        "         - assumes the centre of the image to be origin\n",
        "    \n",
        "    '''\n",
        "    \n",
        "    #############################\n",
        "    # Start your code from here #\n",
        "    #############################\n",
        "    bias = pow(10,-100)\n",
        "    img = img.copy().astype('float')\n",
        "    out_size = int(k*img.shape[0])\n",
        "    if k==1:\n",
        "      out_img = img\n",
        "    elif k<1:\n",
        "      dft = cv2.dft(img,flags = cv2.DFT_COMPLEX_OUTPUT)\n",
        "      dft = np.fft.fftshift(dft)\n",
        "\n",
        "      diff = dft.shape[0] - out_size\n",
        "      out_dft = dft[int(np.ceil(diff/2)):-diff//2,int(np.ceil(diff/2)):-diff//2]\n",
        "      \n",
        "      out_dft = np.fft.ifftshift(out_dft)\n",
        "      out_idft = cv2.idft(out_dft)\n",
        "      \n",
        "      out_img = cv2.magnitude(out_idft[:,:,0],out_idft[:,:,1])\n",
        "      \n",
        "    else:\n",
        "      dft = cv2.dft(img,flags = cv2.DFT_COMPLEX_OUTPUT)\n",
        "      dft = np.fft.fftshift(dft)\n",
        "\n",
        "      l = int(np.ceil(dft.shape[0]/2)); r = int(np.floor(dft.shape[0]/2))\n",
        "      out_dft = np.zeros((out_size,out_size,2))\n",
        "      out_dft[:l,:l] = dft[:l,:l]\n",
        "      out_dft[:l,-r:] = dft[:l,-r:]\n",
        "      out_dft[-r:,:l] = dft[-r:,:l]\n",
        "      out_dft[-r:,-r:] = dft[-r:,-r:]\n",
        "      \n",
        "      out_dft = np.fft.ifftshift(out_dft)\n",
        "      out_idft = cv2.idft(out_dft)\n",
        "\n",
        "      out_img = cv2.magnitude(out_idft[:,:,0],out_idft[:,:,1])\n",
        "    \n",
        "    out_img = (((out_img-np.min(out_img))/(np.max(out_img)-np.min(out_img)+bias))*255).astype('uint8')\n",
        "    \n",
        "    #############################\n",
        "    # End your code here ########\n",
        "    #############################    \n",
        "    \n",
        "    return out_img"
      ],
      "execution_count": 6,
      "outputs": []
    },
    {
      "cell_type": "markdown",
      "metadata": {
        "id": "HX-bbDIosUiS"
      },
      "source": [
        "### Observations"
      ]
    },
    {
      "cell_type": "code",
      "metadata": {
        "id": "VblEYwxksUiU",
        "colab": {
          "base_uri": "https://localhost:8080/",
          "height": 1000
        },
        "outputId": "10965cf4-1c55-494b-9771-68a697fe9bf8"
      },
      "source": [
        "# Do not change codes inside this cell\n",
        "# Add your observations in next cell\n",
        "# Your observation should compare the output for different values of k\n",
        "\n",
        "data = cv2.imread(\"data/parallel_lines.jpg\", 0)\n",
        "\n",
        "print(\"Original\")\n",
        "cv2_imshow(data)\n",
        "\n",
        "for k in [0.49, 0.5, 0.51, 1.96, 2, 2.04]:\n",
        "    tmp = resize_ft(data, k=k)\n",
        "    print(\" k = \" + str(k))\n",
        "    cv2_imshow(tmp)"
      ],
      "execution_count": 8,
      "outputs": [
        {
          "output_type": "stream",
          "text": [
            "Original\n"
          ],
          "name": "stdout"
        },
        {
          "output_type": "display_data",
          "data": {
            "image/png": "[encoded data removed]",
            "text/plain": [
              "<PIL.Image.Image image mode=L size=512x512 at 0x7F7B4FF266A0>"
            ]
          },
          "metadata": {
            "tags": []
          }
        },
        {
          "output_type": "stream",
          "text": [
            " k = 0.49\n"
          ],
          "name": "stdout"
        },
        {
          "output_type": "display_data",
          "data": {
            "image/png": "[encoded data removed]",
            "text/plain": [
              "<PIL.Image.Image image mode=L size=250x250 at 0x7F7B4FF26748>"
            ]
          },
          "metadata": {
            "tags": []
          }
        },
        {
          "output_type": "stream",
          "text": [
            " k = 0.5\n"
          ],
          "name": "stdout"
        },
        {
          "output_type": "display_data",
          "data": {
            "image/png": "[encoded data removed]",
            "text/plain": [
              "<PIL.Image.Image image mode=L size=256x256 at 0x7F7B4FF265F8>"
            ]
          },
          "metadata": {
            "tags": []
          }
        },
        {
          "output_type": "stream",
          "text": [
            " k = 0.51\n"
          ],
          "name": "stdout"
        },
        {
          "output_type": "display_data",
          "data": {
            "image/png": "[encoded data removed]",
            "text/plain": [
              "<PIL.Image.Image image mode=L size=260x260 at 0x7F7B4FF26748>"
            ]
          },
          "metadata": {
            "tags": []
          }
        },
        {
          "output_type": "stream",
          "text": [
            " k = 1.96\n"
          ],
          "name": "stdout"
        },
        {
          "output_type": "display_data",
          "data": {
            "image/png": "[encoded data removed]",
            "text/plain": [
              "<PIL.Image.Image image mode=L size=1003x1003 at 0x7F7B4FF265F8>"
            ]
          },
          "metadata": {
            "tags": []
          }
        },
        {
          "output_type": "stream",
          "text": [
            " k = 2\n"
          ],
          "name": "stdout"
        },
        {
          "output_type": "display_data",
          "data": {
            "image/png": "[encoded data removed]",
            "text/plain": [
              "<PIL.Image.Image image mode=L size=1024x1024 at 0x7F7B4FF26780>"
            ]
          },
          "metadata": {
            "tags": []
          }
        },
        {
          "output_type": "stream",
          "text": [
            " k = 2.04\n"
          ],
          "name": "stdout"
        },
        {
          "output_type": "display_data",
          "data": {
            "image/png": "[encoded data removed]",
            "text/plain": [
              "<PIL.Image.Image image mode=L size=1044x1044 at 0x7F7B4FF265F8>"
            ]
          },
          "metadata": {
            "tags": []
          }
        }
      ]
    },
    {
      "cell_type": "code",
      "metadata": {
        "id": "8F0_wghBsUia",
        "colab": {
          "base_uri": "https://localhost:8080/"
        },
        "outputId": "b4fa3c88-5e01-40a7-8d41-f640eb9b846b"
      },
      "source": [
        "your_observation = \"\"\"\n",
        "As expected, since we crop our spectrum for k<1, for 0.49, we lose critical information about the frequency of straight lines, resulting in the black output.\n",
        "\n",
        "Whereas, for k>1, it is understandable that we shift our spectrum radially outward as now, \n",
        "one straigh line of a color will require more pixels to maintain the total no. of straight line as the original image.\n",
        "\"\"\"\n",
        "\n",
        "print(your_observation)"
      ],
      "execution_count": 12,
      "outputs": [
        {
          "output_type": "stream",
          "text": [
            "\n",
            "As expected, since we crop our spectrum for k<1, for 0.49, we lose critical information about the frequency of straight lines, resulting in the black output.\n",
            "\n",
            "Whereas, for k>1, it is understandable that we shift our spectrum radially outward as now, \n",
            "one straigh line of a color will require more pixels to maintain the total no. of straight line as the original image.\n",
            "\n"
          ],
          "name": "stdout"
        }
      ]
    },
    {
      "cell_type": "code",
      "metadata": {
        "id": "qI05c6P3sUig"
      },
      "source": [
        "# Submission >>>>>>>>>>>>>>>>>>>>>\n",
        "# Do not change codes inside this cell.\n",
        "\n",
        "gen_imgs = []\n",
        "data = cv2.imread(\"data/parallel_lines.jpg\", 0)\n",
        "\n",
        "for k in [0.49, 0.5, 0.51, 1.96, 2, 2.04]:\n",
        "    tmp = resize_ft(data, k=k)\n",
        "    gen_imgs.append(tmp)\n",
        "\n",
        "task1_submission = np.array(gen_imgs)"
      ],
      "execution_count": 13,
      "outputs": []
    },
    {
      "cell_type": "code",
      "metadata": {
        "id": "LyPLEkOTsUil"
      },
      "source": [
        ""
      ],
      "execution_count": null,
      "outputs": []
    }
  ]
}
{
  "nbformat": 4,
  "nbformat_minor": 0,
  "metadata": {
    "kernelspec": {
      "display_name": "Python 3",
      "language": "python",
      "name": "python3"
    },
    "language_info": {
      "codemirror_mode": {
        "name": "ipython",
        "version": 3
      },
      "file_extension": ".py",
      "mimetype": "text/x-python",
      "name": "python",
      "nbconvert_exporter": "python",
      "pygments_lexer": "ipython3",
      "version": "3.7.6"
    },
    "colab": {
      "name": "Task_2.ipynb",
      "provenance": [],
      "collapsed_sections": []
    }
  },
  "cells": [
    {
      "cell_type": "code",
      "metadata": {
        "id": "70dPBw78Nk6X"
      },
      "source": [
        "# Copyright 2020 IITK EE604A Image Processing. All Rights Reserved.\n",
        "# \n",
        "# Licensed under the MIT License. Use and/or modification of this code outside of EE604 must reference:\n",
        "#\n",
        "# © IITK EE604A Image Processing \n",
        "# https://github.com/ee604/ee604_assignments\n",
        "#\n",
        "# Author: Shashi Kant Gupta, Chiranjeev Prachand and Prof K. S. Venkatesh, Department of Electrical Engineering, IIT Kanpur"
      ],
      "execution_count": 1,
      "outputs": []
    },
    {
      "cell_type": "markdown",
      "metadata": {
        "id": "2ztEo3tmNk6X"
      },
      "source": [
        "# Task 2: Image Compression: SVD\n",
        "\n",
        "In image transforms you studied about diagonalisation. SVD decomposition works in similar way and decomposes your image $I = USV^*$, in case of I being a square matrix of size $mxm$, $S$ results into a diagonal matrix of size $mxm$ with its diagonal entries called as the singular values. Now consider writing $U = [u_1, u_2, ..., u_m]$, $V^* = [v_1; v_2; ...; v_m]$, and $S = diag(s_1, s_2, ..., s_m)$. Here $u_i$ are the columns of $U$, $v_i$ are the rows of $V^*$, and $s_i$ are the diagonal entries of $S$. Then you can re write $I$ as:\n",
        "\n",
        "$$\n",
        "I = \\sum_i^m s_i*matrix\\_dot(u_i, v_i)\n",
        "$$\n",
        "\n",
        "Now, consider arranging $s_i$ into a decreasing order. You will find that mostly $s_m << s_0$. So, we can use this to smartly compress the original by only using the first k singular values. \n",
        "\n",
        "$$\n",
        "I_{compressed} = \\sum_i^k s_i*matrix\\_dot(u_i, v_i)\n",
        "$$\n",
        "\n",
        "Note the difference originally you need $O(n^2)$ space but now you need only $O(kn)$ space.\n",
        "\n",
        "### Your task:\n",
        "In this you will write a program, which will compress the original image using SVD decomposition at a given k value and will then compare the compressed images with the original image using **SSIM** and **MSE** metrics. You can use skimage module for these metrics, refer [this](https://scikit-image.org/docs/dev/auto_examples/transform/plot_ssim.html).\n",
        "\n",
        "PS: You are allowed to use numpy SVD module: https://numpy.org/doc/stable/reference/generated/numpy.linalg.svd.html"
      ]
    },
    {
      "cell_type": "code",
      "metadata": {
        "id": "Q_SRNTCUNk6X",
        "colab": {
          "base_uri": "https://localhost:8080/"
        },
        "outputId": "5f942e3e-83e9-466a-9a96-d5345ddb8ad7"
      },
      "source": [
        "%%bash\n",
        "pip install git+https://github.com/ee604/ee604_plugins "
      ],
      "execution_count": 2,
      "outputs": [
        {
          "output_type": "stream",
          "text": [
            "Collecting git+https://github.com/ee604/ee604_plugins\n",
            "  Cloning https://github.com/ee604/ee604_plugins to /tmp/pip-req-build-_hgjgqae\n",
            "Collecting pytube\n",
            "  Downloading https://files.pythonhosted.org/packages/63/2d/5b64e61f34d193b718aa39d322eddd7a17a3cc07f56a4b27b107ea234c02/pytube-10.0.0-py3-none-any.whl (40kB)\n",
            "Requirement already satisfied: typing-extensions in /usr/local/lib/python3.6/dist-packages (from pytube->ee604-plugins==0.4.2) (3.7.4.3)\n",
            "Building wheels for collected packages: ee604-plugins\n",
            "  Building wheel for ee604-plugins (setup.py): started\n",
            "  Building wheel for ee604-plugins (setup.py): finished with status 'done'\n",
            "  Created wheel for ee604-plugins: filename=ee604_plugins-0.4.2-cp36-none-any.whl size=2457 sha256=4967b879af5707d2b933a3cb3470e5764b63e7874b9040484c705effe5271383\n",
            "  Stored in directory: /tmp/pip-ephem-wheel-cache-h2omwwn1/wheels/34/a8/1d/ae3b7d209ecde89b4800a47ec55a61e7503bb9548bbb975806\n",
            "Successfully built ee604-plugins\n",
            "Installing collected packages: pytube, ee604-plugins\n",
            "Successfully installed ee604-plugins-0.4.2 pytube-10.0.0\n"
          ],
          "name": "stdout"
        },
        {
          "output_type": "stream",
          "text": [
            "  Running command git clone -q https://github.com/ee604/ee604_plugins /tmp/pip-req-build-_hgjgqae\n"
          ],
          "name": "stderr"
        }
      ]
    },
    {
      "cell_type": "code",
      "metadata": {
        "id": "CUNump8mNk6X",
        "colab": {
          "base_uri": "https://localhost:8080/"
        },
        "outputId": "626b8d94-4b17-4c9a-d391-c08b550ec9c6"
      },
      "source": [
        "# Importing required libraries\n",
        "\n",
        "import cv2\n",
        "import numpy as np\n",
        "import matplotlib.pyplot as plt\n",
        "import os\n",
        "import skimage\n",
        "\n",
        "from ee604_plugins import download_dataset, cv2_imshow\n",
        "\n",
        "download_dataset(assignment_no=4, task_no=2) # download data for this assignment"
      ],
      "execution_count": 3,
      "outputs": [
        {
          "output_type": "stream",
          "text": [
            "Download Complete!\n"
          ],
          "name": "stdout"
        }
      ]
    },
    {
      "cell_type": "code",
      "metadata": {
        "id": "ZJMYYOK0Nk6X"
      },
      "source": [
        "# These are some helper function which you may need. \n",
        "# Do not change or modify these.\n",
        "\n",
        "def save_svd_image(filename, u, s, v):\n",
        "    '''\n",
        "    Use extension as svdim, i.e. your filname must be something like this: \"data/image.svdim\"\n",
        "    \n",
        "    Assumes USV* have their singular value arranged in decreasing order.\n",
        "    Inputs:\n",
        "    + u - should be a numpy array of size m x k, with its columns equals to first k columns of U\n",
        "    + v - should be a numpy array of size k x m, with its rows equals to first k rows of V*\n",
        "    + s - should be a numpy array of size k, with its entries equals to first k singular values\n",
        "    '''\n",
        "    \n",
        "    np.savez_compressed(filename + \".npz\", u=u, s=s, v=v)\n",
        "    \n",
        "def load_svd_image(filename):\n",
        "    '''\n",
        "    Load the svd image saved in .npz file and returns the corresponding u, s, v\n",
        "    \n",
        "    Returns:\n",
        "    + u - should be a numpy array of size m x k, with its columns equals to first k columns of U\n",
        "    + v - should be a numpy array of size k x m, with its rows equals to first k rows of V*\n",
        "    + s - should be a numpy array of size k, with its entries equals to first k singular values\n",
        "    '''\n",
        "        \n",
        "    data = np.load(filename + \".npz\")\n",
        "    \n",
        "    u = data['u']\n",
        "    v = data['v']\n",
        "    s = data['s']\n",
        "    \n",
        "    return u, s, v\n",
        "\n",
        "def get_file_size(filename):\n",
        "    '''\n",
        "    Retreive the size of the file\n",
        "    '''\n",
        "    if filename[-6:] == \".svdim\":\n",
        "        filename = filename + \".npz\"\n",
        "    \n",
        "    b = os.path.getsize(filename)\n",
        "        \n",
        "    return round(b/1000, 1)"
      ],
      "execution_count": 4,
      "outputs": []
    },
    {
      "cell_type": "code",
      "metadata": {
        "id": "HEMQc7KANk6X"
      },
      "source": [
        "def svd_playground(img, k):\n",
        "    '''\n",
        "    Inside this function do the task as described above, i.e.\n",
        "      1. Upsample the original image by 2 >> downsample by 2 >> save at Q = 80\n",
        "      2. Downsample the original image by 2 >> upsample by 2 >> save at Q = 80\n",
        "      3. Apply an average filter of 5 x 5 on original image >> save at Q = 80\n",
        "    \n",
        "    Inputs:\n",
        "    + img - grayscaled image of size N x N\n",
        "          - values between [0, 255] - 'uint8'\n",
        "    + k - number of k singular value to use\n",
        "    \n",
        "    Ouputs:\n",
        "    + ssim - SSIM metric between the compressed image and original image.\n",
        "    + mse - MSE metric between the compressed image and original image.\n",
        "    + size - size of the the compressed image using the save_svd_image() function. Make sure you use \".svdim\"\n",
        "           - as extension when you save using the save_svd_image() function.\n",
        "    \n",
        "    Allowed external package:\n",
        "    + Any relevant module in openCV, numpy, skimage.\n",
        "    \n",
        "    '''\n",
        "    \n",
        "    #############################\n",
        "    # Start your code from here #\n",
        "    #############################\n",
        "    \n",
        "    img = img.copy()\n",
        "    \n",
        "    u,s,v = np.linalg.svd(img)\n",
        "    \n",
        "    ind = np.sort(np.argsort(s)[-k:])\n",
        "    u = u[:,ind].copy()\n",
        "    s = s[ind].copy()\n",
        "    v = v[ind,:].copy()\n",
        "\n",
        "    img_compressed = (u @ np.diag(s) @ v).astype('uint8')\n",
        "    # img_compressed = ((img_compressed - img_compressed.min())/(img_compressed.max()-img_compressed.min())*255).astype('uint8')\n",
        "\n",
        "    save_svd_image('img_compressed.svdim',u,s,v)\n",
        "    size = get_file_size('img_compressed.svdim')\n",
        "\n",
        "    from skimage.metrics import structural_similarity\n",
        "    from skimage.metrics import mean_squared_error\n",
        "\n",
        "    mse = mean_squared_error(img,img_compressed)\n",
        "    ssim = structural_similarity(img,img_compressed,data_range=img_compressed.max()-img_compressed.min())\n",
        "    # print(ssim)\n",
        "    #############################\n",
        "    # End your code here ########\n",
        "    #############################\n",
        "    \n",
        "    return ssim, mse, size"
      ],
      "execution_count": 8,
      "outputs": []
    },
    {
      "cell_type": "code",
      "metadata": {
        "id": "N2dZ5EVfNk6X",
        "colab": {
          "base_uri": "https://localhost:8080/",
          "height": 265
        },
        "outputId": "d3c0a468-cab3-4716-e0f3-e61242d6536e"
      },
      "source": [
        "# Do not change codes inside this cell\n",
        "# Add your observations in next cell\n",
        "\n",
        "img = cv2.imread(\"data/lena_gray.jpg\", 0)\n",
        "\n",
        "ssim_a = []\n",
        "mse_a = []\n",
        "size_a = []\n",
        "for k in range(8, 257, 8):\n",
        "    ssim, mse, size = svd_playground(np.copy(img), k)\n",
        "    \n",
        "    ssim_a.append(ssim)\n",
        "    mse_a.append(mse)\n",
        "    size_a.append(size)\n",
        "    \n",
        "plt.plot(size_a, ssim_a, label=\"SSIM\")\n",
        "plt.plot(size_a, mse_a, label=\"MSE\")\n",
        "plt.legend()\n",
        "plt.show()"
      ],
      "execution_count": 9,
      "outputs": [
        {
          "output_type": "display_data",
          "data": {
            "image/png": "[encoded data removed]",
            "text/plain": [
              "<Figure size 432x288 with 1 Axes>"
            ]
          },
          "metadata": {
            "tags": [],
            "needs_background": "light"
          }
        }
      ]
    },
    {
      "cell_type": "code",
      "metadata": {
        "id": "TsHpfyIKNk6Y",
        "colab": {
          "base_uri": "https://localhost:8080/"
        },
        "outputId": "4d4633ae-24d0-454b-ca36-fa78aabbcb69"
      },
      "source": [
        "# Add your observations; compare the effect of compression on SSIM and MSE.\n",
        "\n",
        "your_observation = \"\"\"\n",
        "By SVD, we are trying to reduce the dimensionality of the original image.\n",
        "And intuitively, as you allow more dimentions to express the image, there will be lesser loss of information, which can be seen here.\n",
        "\n",
        "As k increases, dimensionality of output increases, size increases, loss of information decreases and corollary MSE loss decreases and SSIM increases.\n",
        "\"\"\"\n",
        "\n",
        "print(your_observation)"
      ],
      "execution_count": 10,
      "outputs": [
        {
          "output_type": "stream",
          "text": [
            "\n",
            "By SVD, we are trying to reduce the dimensionality of the original image.\n",
            "And intuitively, as you allow more dimentions to express the image, there will be lesser loss of information, which can be seen here.\n",
            "\n",
            "As k increases, dimensionality of output increases, size increases, loss of information decreases and corollary MSE loss decreases and SSIM increases.\n",
            "\n"
          ],
          "name": "stdout"
        }
      ]
    }
  ]
}
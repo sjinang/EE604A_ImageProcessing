{
  "nbformat": 4,
  "nbformat_minor": 0,
  "metadata": {
    "kernelspec": {
      "display_name": "Python 3",
      "language": "python",
      "name": "python3"
    },
    "language_info": {
      "codemirror_mode": {
        "name": "ipython",
        "version": 3
      },
      "file_extension": ".py",
      "mimetype": "text/x-python",
      "name": "python",
      "nbconvert_exporter": "python",
      "pygments_lexer": "ipython3",
      "version": "3.7.6"
    },
    "colab": {
      "name": "Task_1.ipynb",
      "provenance": [],
      "collapsed_sections": [],
      "include_colab_link": true
    }
  },
  "cells": [
    {
      "cell_type": "markdown",
      "metadata": {
        "id": "view-in-github",
        "colab_type": "text"
      },
      "source": [
        "<a href=\"https://colab.research.google.com/github/sjinang/EE604A_ImageProcessing/blob/master/Task_1.ipynb\" target=\"_parent\"><img src=\"https://colab.research.google.com/assets/colab-badge.svg\" alt=\"Open In Colab\"/></a>"
      ]
    },
    {
      "cell_type": "code",
      "metadata": {
        "id": "ofBTnMsc-ssH"
      },
      "source": [
        "# Copyright 2020 IITK EE604A Image Processing. All Rights Reserved.\n",
        "# \n",
        "# Licensed under the MIT License. Use and/or modification of this code outside of EE604 must reference:\n",
        "#\n",
        "# © IITK EE604A Image Processing \n",
        "# https://github.com/ee604/ee604_assignments\n",
        "#\n",
        "# Author: Shashi Kant Gupta, Chiranjeev Prachand and Prof K. S. Venkatesh, Department of Electrical Engineering, IIT Kanpur"
      ],
      "execution_count": null,
      "outputs": []
    },
    {
      "cell_type": "markdown",
      "metadata": {
        "id": "DclJtr8w-ssO"
      },
      "source": [
        "# Task 1: Basic Operation on Images - Number Display\n",
        "\n",
        "In this task, you have to write a simple [Halftoning Program](https://en.wikipedia.org/wiki/Halftone) to create a B&W number display. Aim for this assignment is to check your basic image manipulation skills.\n",
        "\n",
        "Our Number Display should contain **3 digits**. Each digit should be made using **5x3 dot patterns** (Radius of dot patterns should be **25 pixels**. A single digit should enclose within a rectangle of **300x180 pixels**. Your number display should enclose within a rectangle of **300x660 pixel** wide rectangle. There should be a space of **60 pixels** between two digits.\n",
        "\n",
        "**This is how your display should be if N = 123:**\n",
        "\n",
        "![](https://github.com/ee604/ee604_assignments/raw/master/assignment_1/imgs/t1_example.jpg)\n",
        "\n",
        "**Examples of single digits**\n",
        "\n",
        "![](https://github.com/ee604/ee604_assignments/raw/master/assignment_1/imgs/t1_digits.jpg)"
      ]
    },
    {
      "cell_type": "code",
      "metadata": {
        "id": "2EwZV9zy-ssP",
        "outputId": "a09b3e56-9369-433b-dd98-0c0807626fce",
        "colab": {
          "base_uri": "https://localhost:8080/",
          "height": 194
        }
      },
      "source": [
        "%%bash\n",
        "pip install git+https://github.com/ee604/ee604_plugins"
      ],
      "execution_count": null,
      "outputs": [
        {
          "output_type": "stream",
          "text": [
            "Collecting git+https://github.com/ee604/ee604_plugins\n",
            "  Cloning https://github.com/ee604/ee604_plugins to /tmp/pip-req-build-vc7igs3a\n",
            "Requirement already satisfied (use --upgrade to upgrade): ee604-plugins==0.1.4 from git+https://github.com/ee604/ee604_plugins in /usr/local/lib/python3.6/dist-packages\n",
            "Building wheels for collected packages: ee604-plugins\n",
            "  Building wheel for ee604-plugins (setup.py): started\n",
            "  Building wheel for ee604-plugins (setup.py): finished with status 'done'\n",
            "  Created wheel for ee604-plugins: filename=ee604_plugins-0.1.4-cp36-none-any.whl size=2305 sha256=1de39eb19cf633560e6f28187d5472ccaedba9b79ef190ab5122d5b2bc451cac\n",
            "  Stored in directory: /tmp/pip-ephem-wheel-cache-bp_i1nch/wheels/34/a8/1d/ae3b7d209ecde89b4800a47ec55a61e7503bb9548bbb975806\n",
            "Successfully built ee604-plugins\n"
          ],
          "name": "stdout"
        },
        {
          "output_type": "stream",
          "text": [
            "  Running command git clone -q https://github.com/ee604/ee604_plugins /tmp/pip-req-build-vc7igs3a\n"
          ],
          "name": "stderr"
        }
      ]
    },
    {
      "cell_type": "code",
      "metadata": {
        "id": "-Imc7gkR-ssT"
      },
      "source": [
        "# Importing required libraries\n",
        "\n",
        "import cv2\n",
        "import numpy as np\n",
        "from ee604_plugins import cv2_imshow"
      ],
      "execution_count": null,
      "outputs": []
    },
    {
      "cell_type": "code",
      "metadata": {
        "id": "aRl8A0EV-ssX"
      },
      "source": [
        "def generate_number_display(N=123):\n",
        "    '''\n",
        "    Write your program to generate 3 digit number display as described above. \n",
        "    Digits should be white and background black.\n",
        "    \n",
        "    Inputs:\n",
        "    + N - A '3' digit number to be printed.\n",
        "    \n",
        "    Ouputs:\n",
        "    + out_img - your 300x660 numpy array (of dtype np.uint8) as the display image.\n",
        "              - For white pixel use value = 255\n",
        "              - For black pixel use value = 0\n",
        "    \n",
        "    Allowed external package:\n",
        "    + You can use cv2.circle to draw dots. \n",
        "    + You are not allowed to use any other external package.\n",
        "    \n",
        "    Hint:\n",
        "    + Create a masking array to place white dots across a black 300x660 display image.\n",
        "    \n",
        "    '''\n",
        "    out_img = np.zeros((300, 660), dtype=np.uint8) # Intialise with blank display\n",
        "    \n",
        "    #############################\n",
        "    # Start your code from here #\n",
        "    #############################\n",
        "    \n",
        "    dot = np.zeros((60,60), dtype=np.uint8)\n",
        "    dot = cv2.circle(dot,(29,29),25,255,-1)\n",
        "    \n",
        "    digits = [N//100,(N%100)//10,N%10]\n",
        "\n",
        "    part_img = []\n",
        "    for d in digits:\n",
        "      img = np.zeros((300,180))\n",
        "      if d==0 or d==8:\n",
        "        ind = np.array([[0,0],[1,0],[2,0],[3,0],[4,0],\n",
        "               [0,2],[1,2],[2,2],[3,2],[4,2],\n",
        "               [0,1],[4,1]])*60\n",
        "        \n",
        "        for i in ind:\n",
        "          img[i[0]:i[0]+60,i[1]:i[1]+60] = dot\n",
        "        if d==8:\n",
        "          img[120:180,60:120] = dot\n",
        "\n",
        "      if d==1:\n",
        "        ind = 60*np.array([[0,1],[1,1],[2,1],[3,1],[4,1]])\n",
        "        for i in ind:\n",
        "          img[i[0]:i[0]+60,i[1]:i[1]+60] = dot\n",
        "\n",
        "      if d==7:\n",
        "        ind = 60*np.array([[0,2],[1,2],[2,2],[3,2],[4,2],[0,0],[0,1]])\n",
        "        for i in ind:\n",
        "          img[i[0]:i[0]+60,i[1]:i[1]+60] = dot\n",
        "\n",
        "      if d==2 or d==5:\n",
        "        ind = 60*np.array([[0,2],[1,2],[2,2],[3,0],[4,0],[0,0],[0,1],[2,1],[4,1],[4,2],[2,0]])\n",
        "        for i in ind:\n",
        "          img[i[0]:i[0]+60,i[1]:i[1]+60] = dot\n",
        "        if d==5:\n",
        "          img = img[:,::-1]\n",
        "\n",
        "      if d==3 or d==4 or d==6 or d==9:\n",
        "        ind = 60*np.array([[0,2],[1,2],[2,2],[3,2],[4,2],[2,0],[2,1]])\n",
        "        for i in ind:\n",
        "          img[i[0]:i[0]+60,i[1]:i[1]+60] = dot\n",
        "        if d==4:\n",
        "          ind = 60*np.array([[0,0],[1,0]])\n",
        "          for i in ind:\n",
        "            img[i[0]:i[0]+60,i[1]:i[1]+60] = dot\n",
        "        else:\n",
        "          ind = 60*np.array([[0,0],[0,1],[4,0],[4,1]])\n",
        "          for i in ind:\n",
        "            img[i[0]:i[0]+60,i[1]:i[1]+60] = dot\n",
        "          if d==6 or d==9:\n",
        "            ind = 60*np.array([[1,0]])\n",
        "            for i in ind:\n",
        "              img[i[0]:i[0]+60,i[1]:i[1]+60] = dot\n",
        "            if d==6:\n",
        "              img = img[::-1,::-1]\n",
        "\n",
        "      part_img.append(img)\n",
        "\n",
        "    ind = [0,240,480]\n",
        "    for i,img in zip(ind,part_img):\n",
        "      out_img[:,i:i+180] = img\n",
        "    #############################\n",
        "    # End your code here ########\n",
        "    #############################    \n",
        "    \n",
        "    return np.uint8(out_img)"
      ],
      "execution_count": null,
      "outputs": []
    },
    {
      "cell_type": "code",
      "metadata": {
        "id": "sy4bbVlq-ssb",
        "outputId": "42a39ea7-eb8f-4f8e-b17b-ee6a153f5a31",
        "colab": {
          "base_uri": "https://localhost:8080/",
          "height": 316
        }
      },
      "source": [
        "# Test Run\n",
        "img = generate_number_display()\n",
        "cv2_imshow(img)"
      ],
      "execution_count": null,
      "outputs": [
        {
          "output_type": "display_data",
          "data": {
            "image/png": "[encoded data removed]",
            "text/plain": [
              "<PIL.Image.Image image mode=L size=660x300 at 0x7FF9EF7E40B8>"
            ]
          },
          "metadata": {
            "tags": []
          }
        }
      ]
    },
    {
      "cell_type": "code",
      "metadata": {
        "id": "mY9D1xF5-ssh"
      },
      "source": [
        "# Submission >>>>>>>>>>>>>>>>>>>>>\n",
        "# Do not change codes inside this cell otherwise our autograder will fail.\n",
        "\n",
        "test_numbers = [604, 987, 645, 159, 963, 248]\n",
        "\n",
        "gen_imgs = []\n",
        "for N in test_numbers:\n",
        "    gen_imgs.append(generate_number_display(N=N))\n",
        "    \n",
        "task1_submission = np.array(gen_imgs)"
      ],
      "execution_count": null,
      "outputs": []
    }
  ]
}